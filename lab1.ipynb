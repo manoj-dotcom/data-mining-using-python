{
  "nbformat": 4,
  "nbformat_minor": 0,
  "metadata": {
    "colab": {
      "provenance": [],
      "collapsed_sections": []
    },
    "kernelspec": {
      "name": "python3",
      "display_name": "Python 3"
    },
    "language_info": {
      "name": "python"
    }
  },
  "cells": [
    {
      "cell_type": "code",
      "execution_count": 3,
      "metadata": {
        "colab": {
          "base_uri": "https://localhost:8080/"
        },
        "id": "CE_JinYJjR8h",
        "outputId": "a6319b3b-5439-400d-d417-c5bf0896d50e"
      },
      "outputs": [
        {
          "output_type": "stream",
          "name": "stdout",
          "text": [
            "    index  age salary\n",
            "0       0   25  35000\n",
            "1       1   27  40000\n",
            "2       2   58  54800\n",
            "3       3   35    Nan\n",
            "4       4   40  60000\n",
            "5       5   35  58000\n",
            "6       6  Nan  52000\n",
            "7       7   48  79000\n",
            "8       8   50  83000\n",
            "9       9   37    Nan\n",
            "10     10   21  24000\n",
            "11     11  Nan  60000\n",
            "12     12   63  70000\n"
          ]
        }
      ],
      "source": [
        "import pandas as pd\n",
        "import numpy as np\n",
        "dataset=pd.read_csv(\"/content/drive/MyDrive/salary_age.csv\")\n",
        "print(dataset)"
      ]
    },
    {
      "cell_type": "code",
      "source": [
        "import pandas as pd\n",
        "import numpy as np\n",
        "dataset=pd.read_csv(\"/content/drive/MyDrive/salary_age.csv\")\n",
        "x=dataset.iloc[:,:-1].values# all rows , except last column\n",
        "print(x)"
      ],
      "metadata": {
        "colab": {
          "base_uri": "https://localhost:8080/"
        },
        "id": "CZMDM4Mhwqc2",
        "outputId": "cd45141b-15c5-42d7-ea70-7d8a892a2e82"
      },
      "execution_count": 4,
      "outputs": [
        {
          "output_type": "stream",
          "name": "stdout",
          "text": [
            "[[0 '25']\n",
            " [1 '27']\n",
            " [2 '58']\n",
            " [3 '35']\n",
            " [4 '40']\n",
            " [5 '35']\n",
            " [6 'Nan']\n",
            " [7 '48']\n",
            " [8 '50']\n",
            " [9 '37']\n",
            " [10 '21']\n",
            " [11 'Nan']\n",
            " [12 '63']]\n"
          ]
        }
      ]
    },
    {
      "cell_type": "code",
      "source": [
        "  y=dataset.iloc[:,-1].values\n",
        "  print(y)"
      ],
      "metadata": {
        "colab": {
          "base_uri": "https://localhost:8080/"
        },
        "id": "SK8q-4Jpxpcj",
        "outputId": "2ef03029-66b8-48a2-b63b-5b5a403cf795"
      },
      "execution_count": 5,
      "outputs": [
        {
          "output_type": "stream",
          "name": "stdout",
          "text": [
            "['35000' '40000' '54800' 'Nan' '60000' '58000' '52000' '79000' '83000'\n",
            " 'Nan' '24000' '60000' '70000']\n"
          ]
        }
      ]
    },
    {
      "cell_type": "code",
      "source": [
        "from sklearn.impute import SimpleImputer\n",
        "imp=SimpleImputer(missing_values=np.nan,strategy=\"mean\")\n",
        "x=imp.fit_transform(x)\n",
        "print(x)"
      ],
      "metadata": {
        "colab": {
          "base_uri": "https://localhost:8080/"
        },
        "id": "iVjbWibv8_Hh",
        "outputId": "48ddd5ea-595b-494c-d1ab-80e1229a747a"
      },
      "execution_count": 6,
      "outputs": [
        {
          "output_type": "stream",
          "name": "stdout",
          "text": [
            "[[ 0.         25.        ]\n",
            " [ 1.         27.        ]\n",
            " [ 2.         58.        ]\n",
            " [ 3.         35.        ]\n",
            " [ 4.         40.        ]\n",
            " [ 5.         35.        ]\n",
            " [ 6.         39.90909091]\n",
            " [ 7.         48.        ]\n",
            " [ 8.         50.        ]\n",
            " [ 9.         37.        ]\n",
            " [10.         21.        ]\n",
            " [11.         39.90909091]\n",
            " [12.         63.        ]]\n"
          ]
        }
      ]
    },
    {
      "cell_type": "code",
      "source": [
        "y=y.reshape(-1,1)\n",
        "y=imp.fit_transform(y)\n",
        "y=y.reshape(-1)\n",
        "print(y)"
      ],
      "metadata": {
        "id": "kqS8uqzZ_Wr5",
        "colab": {
          "base_uri": "https://localhost:8080/"
        },
        "outputId": "fe3389b8-0860-4fb9-8425-5af10cc3562f"
      },
      "execution_count": 7,
      "outputs": [
        {
          "output_type": "stream",
          "name": "stdout",
          "text": [
            "[35000.         40000.         54800.         55981.81818182\n",
            " 60000.         58000.         52000.         79000.\n",
            " 83000.         55981.81818182 24000.         60000.\n",
            " 70000.        ]\n"
          ]
        }
      ]
    }
  ]
}